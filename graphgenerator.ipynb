{
 "cells": [
  {
   "cell_type": "code",
   "execution_count": 10,
   "metadata": {},
   "outputs": [
    {
     "name": "stderr",
     "output_type": "stream",
     "text": [
      "Creating Graph: 100%|██████████| 3225/3225 [00:00<00:00, 43095.46it/s]\n"
     ]
    }
   ],
   "source": [
    "import pandas as pd\n",
    "import networkx as nx\n",
    "from community import community_louvain\n",
    "import matplotlib.pyplot as plt\n",
    "import os\n",
    "from tqdm import tqdm\n",
    "from typing import Dict, Tuple\n",
    "\n",
    "\n",
    "data: pd.DataFrame = pd.read_csv('all_collected_data.csv', encoding=\"EUC-KR\")\n",
    "edges: pd.DataFrame = data[[\"출발 행정동 코드\", \"도착 행정동 코드\", \"이동인구(합)\"]]\n",
    "\n",
    "G = nx.Graph()\n",
    "\n",
    "for index, row in tqdm(edges.iterrows(), total=edges.shape[0], desc=\"Creating Graph\"):\n",
    "    if pd.notna(row[\"이동인구(합)\"]):\n",
    "        G.add_edge(\n",
    "            row[\"출발 행정동 코드\"], row[\"도착 행정동 코드\"], weight=row[\"이동인구(합)\"]\n",
    "        )\n"
   ]
  },
  {
   "cell_type": "code",
   "execution_count": 11,
   "metadata": {},
   "outputs": [
    {
     "name": "stdout",
     "output_type": "stream",
     "text": [
      "Community detection result for resolution 0.05 saved to community_results_0.05.txt\n",
      "Community detection result for resolution 0.1 saved to community_results_0.10.txt\n",
      "Community detection result for resolution 0.3 saved to community_results_0.30.txt\n",
      "Community detection result for resolution 0.5 saved to community_results_0.50.txt\n",
      "Community detection result for resolution 0.7 saved to community_results_0.70.txt\n",
      "Community detection result for resolution 0.9 saved to community_results_0.90.txt\n",
      "Community detection result for resolution 1 saved to community_results_1.00.txt\n",
      "Community detection result for resolution 1.5 saved to community_results_1.50.txt\n",
      "Community detection result for resolution 2 saved to community_results_2.00.txt\n",
      "Community detection result for resolution 3 saved to community_results_3.00.txt\n"
     ]
    }
   ],
   "source": [
    "resolution_values = [0.05, 0.1, 0.3, 0.5, 0.7, 0.9, 1, 1.5, 2, 3]\n",
    "\n",
    "for resolution in resolution_values:\n",
    "    partition = community_louvain.best_partition(G, weight=\"weight\", resolution=resolution)\n",
    "\n",
    "    # Generate positions for nodes for plotting\n",
    "    pos = nx.spring_layout(G)\n",
    "\n",
    "    # Save results to a text file named by the resolution value\n",
    "    file_name = f\"community_results_{resolution:.2f}.txt\"  # Formatting resolution to two decimals\n",
    "    with open(file_name, \"w\") as file:\n",
    "        for node, comm in partition.items():\n",
    "            file.write(f\"{node} : {comm}\\n\")\n",
    "\n",
    "    print(f\"Community detection result for resolution {resolution} saved to {file_name}\")\n"
   ]
  },
  {
   "cell_type": "code",
   "execution_count": 12,
   "metadata": {},
   "outputs": [
    {
     "name": "stdout",
     "output_type": "stream",
     "text": [
      "Community 0: ['종로구', '중구']\n",
      "Community 5: ['용산구', '평택시']\n",
      "Community 3: ['성동구']\n",
      "Community 6: ['광진구']\n",
      "Community 12: ['동대문구', '중랑구', '구리시', '남양주시', '가평군', '양평군']\n",
      "Community 8: ['성북구', '강북구']\n",
      "Community 2: ['도봉구', '노원구', '의정부시', '동두천시', '양주시', '포천시', '연천군']\n",
      "Community 11: ['은평구', '덕양구']\n",
      "Community 13: ['서대문구', '마포구', '일산동구', '일산서구', '파주시']\n",
      "Community 15: ['양천구', '강서구', '중구', '계양구', '서구', '강화군', '김포시']\n",
      "Community 4: ['구로구', '금천구', '동구', '남구', '남동구', '부평구', '옹진군', '만안구', '부천시', '광명시', '상록구', '단원구', '시흥시', '군포시']\n",
      "Community 16: ['영등포구', '연수구']\n",
      "Community 7: ['동작구', '관악구']\n",
      "Community 1: ['서초구', '장안구', '권선구', '팔달구', '동안구', '과천시', '의왕시', '용인시', '안성시', '화성시']\n",
      "Community 9: ['강남구', '영통구', '분당구', '오산시', '용인시', '용인시']\n",
      "Community 10: ['송파구', '수정구', '중원구', '이천시', '광주시', '여주시']\n",
      "Community 14: ['강동구', '하남시']\n"
     ]
    }
   ],
   "source": [
    "import pandas as pd\n",
    "\n",
    "def load_partition(file_path: str) -> dict:\n",
    "    partition = {}\n",
    "    with open(file_path, 'r') as file:\n",
    "        for line in file:\n",
    "            parts = line.strip().split(' : ')\n",
    "            if len(parts) == 2:\n",
    "                key = float(parts[0])\n",
    "                value = int(parts[1])\n",
    "                partition[key] = value\n",
    "    return partition\n",
    "\n",
    "partition_file_path = 'community_results_1.50.txt'\n",
    "excel_file_path = 'data/서울생활이동데이터_자치구코드_20210907.xlsx'\n",
    "\n",
    "partition = load_partition(partition_file_path)\n",
    "\n",
    "df = pd.read_excel(excel_file_path)\n",
    "community_names = {}\n",
    "\n",
    "for key, community in partition.items():\n",
    "    match_row = df[df['시군구'] == key]\n",
    "    if not match_row.empty:\n",
    "        name_value = match_row['name'].values[0]\n",
    "        if community in community_names:\n",
    "            community_names[community].append(name_value)\n",
    "        else:\n",
    "            community_names[community] = [name_value]\n",
    "\n",
    "for community, names in community_names.items():\n",
    "    print(f\"Community {community}: {names}\")\n"
   ]
  },
  {
   "cell_type": "code",
   "execution_count": 14,
   "metadata": {},
   "outputs": [
    {
     "name": "stdout",
     "output_type": "stream",
     "text": [
      "Data for resolution 0.05 saved to community_results_0.05_kor.txt\n",
      "Data for resolution 0.10 saved to community_results_0.10_kor.txt\n",
      "Data for resolution 0.30 saved to community_results_0.30_kor.txt\n",
      "Data for resolution 0.50 saved to community_results_0.50_kor.txt\n",
      "Data for resolution 0.70 saved to community_results_0.70_kor.txt\n",
      "Data for resolution 0.90 saved to community_results_0.90_kor.txt\n",
      "Data for resolution 1.00 saved to community_results_1.00_kor.txt\n",
      "Data for resolution 1.50 saved to community_results_1.50_kor.txt\n",
      "Data for resolution 2.00 saved to community_results_2.00_kor.txt\n",
      "Data for resolution 3.00 saved to community_results_3.00_kor.txt\n"
     ]
    }
   ],
   "source": [
    "import pandas as pd\n",
    "import os\n",
    "\n",
    "def load_partition(file_path):\n",
    "    partition = {}\n",
    "    with open(file_path, 'r', encoding='utf-8') as file:  # 파일을 UTF-8로 열기\n",
    "        for line in file:\n",
    "            parts = line.strip().split(' : ')\n",
    "            if len(parts) == 2:\n",
    "                key = float(parts[0])\n",
    "                value = int(parts[1])\n",
    "                partition[key] = value\n",
    "    return partition\n",
    "\n",
    "base_path = r\"C:\\Users\\kctco\\Documents\\Code\\seoul-communitydetection\\2023\\생활이동_자치구_2023\"\n",
    "excel_file_path = 'data/서울생활이동데이터_자치구코드_20210907.xlsx'\n",
    "\n",
    "df = pd.read_excel(excel_file_path)\n",
    "\n",
    "for resolution in resolution_values:\n",
    "    partition_file_path = f'community_results_{resolution:.2f}.txt'\n",
    "    partition = load_partition(partition_file_path)\n",
    "    community_names = {}\n",
    "\n",
    "    for key, community in partition.items():\n",
    "        match_row = df[df['시군구'] == key]\n",
    "        if not match_row.empty:\n",
    "            name_value = match_row['name'].values[0]\n",
    "            if community in community_names:\n",
    "                community_names[community].append(name_value)\n",
    "            else:\n",
    "                community_names[community] = [name_value]\n",
    "\n",
    "    results_file_name = f\"community_results_{resolution:.2f}_kor.txt\"\n",
    "    with open(results_file_name, 'w', encoding='EUC-KR') as file:\n",
    "        for community, names in community_names.items():\n",
    "            file.write(f\"Community {community}: {', '.join(names)}\\n\")\n",
    "\n",
    "    print(f\"Data for resolution {resolution:.2f} saved to {results_file_name}\")\n"
   ]
  },
  {
   "cell_type": "code",
   "execution_count": null,
   "metadata": {},
   "outputs": [],
   "source": []
  }
 ],
 "metadata": {
  "kernelspec": {
   "display_name": "konlp",
   "language": "python",
   "name": "python3"
  },
  "language_info": {
   "codemirror_mode": {
    "name": "ipython",
    "version": 3
   },
   "file_extension": ".py",
   "mimetype": "text/x-python",
   "name": "python",
   "nbconvert_exporter": "python",
   "pygments_lexer": "ipython3",
   "version": "3.8.19"
  }
 },
 "nbformat": 4,
 "nbformat_minor": 2
}
