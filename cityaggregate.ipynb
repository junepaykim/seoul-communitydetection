{
 "cells": [
  {
   "cell_type": "code",
   "execution_count": null,
   "metadata": {},
   "outputs": [],
   "source": [
    "import pandas as pd\n",
    "import os\n",
    "from tqdm import tqdm\n",
    "\n",
    "def filter_codes(code):\n",
    "    return str(code).startswith(('31', '23', '11'))\n",
    "\n",
    "base_path: str = r\"C:\\Users\\kctco\\Documents\\Code\\seoul-communitydetection\\2023\\생활이동_자치구_2023\"\n",
    "all_data = pd.DataFrame()\n",
    "\n",
    "for month in tqdm(range(1, 13), desc=\"Processing months\"):\n",
    "    month_str = f\"{month:02}\"\n",
    "    month_path = base_path + f\"{month_str}\"\n",
    "\n",
    "    for file_name in os.listdir(month_path):\n",
    "        file_path = os.path.join(month_path, file_name)\n",
    "        if file_name.endswith('.csv'):\n",
    "            try:\n",
    "                data = pd.read_csv(file_path, usecols=[\"출발 시군구 코드\", \"도착 시군구 코드\", \"이동인구(합)\"], encoding=\"EUC-KR\")\n",
    "                data['이동인구(합)'] = pd.to_numeric(data['이동인구(합)'].replace(\"*\", pd.NA), errors='coerce').fillna(0)\n",
    "                \n",
    "                data = data[data['출발 시군구 코드'].apply(filter_codes) & data['도착 시군구 코드'].apply(filter_codes)]\n",
    "                \n",
    "                data = data.groupby(['출발 시군구 코드', '도착 시군구 코드'], as_index=False)['이동인구(합)'].sum()\n",
    "                \n",
    "                all_data = pd.concat([all_data, data], ignore_index=True)\n",
    "            except Exception as e:\n",
    "                print(f\"Error reading {file_path}: {e}\")\n",
    "\n",
    "all_data = all_data.groupby(['출발 시군구 코드', '도착 시군구 코드'], as_index=False)['이동인구(합)'].sum()\n",
    "\n",
    "all_data.to_csv('all_collected_data.csv', index=False)\n",
    "print(\"All data saved to 'all_collected_data.csv'.\")\n"
   ]
  }
 ],
 "metadata": {
  "kernelspec": {
   "display_name": "konlp",
   "language": "python",
   "name": "python3"
  },
  "language_info": {
   "codemirror_mode": {
    "name": "ipython",
    "version": 3
   },
   "file_extension": ".py",
   "mimetype": "text/x-python",
   "name": "python",
   "nbconvert_exporter": "python",
   "pygments_lexer": "ipython3",
   "version": "3.8.19"
  }
 },
 "nbformat": 4,
 "nbformat_minor": 2
}
