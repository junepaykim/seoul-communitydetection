{
 "cells": [
  {
   "cell_type": "code",
   "execution_count": 42,
   "metadata": {},
   "outputs": [
    {
     "name": "stderr",
     "output_type": "stream",
     "text": [
      "Performing walks: 100%|██████████| 8192/8192 [05:49<00:00, 23.43walk/s]\n",
      "c:\\Users\\kctco\\anaconda3\\envs\\gis\\lib\\site-packages\\sklearn\\cluster\\_kmeans.py:1416: FutureWarning: The default value of `n_init` will change from 10 to 'auto' in 1.4. Set the value of `n_init` explicitly to suppress the warning\n",
      "  super()._check_params_vs_input(X, default_n_init=10)\n",
      "Performing walks: 100%|██████████| 8192/8192 [05:10<00:00, 26.39walk/s]\n",
      "c:\\Users\\kctco\\anaconda3\\envs\\gis\\lib\\site-packages\\sklearn\\cluster\\_kmeans.py:1416: FutureWarning: The default value of `n_init` will change from 10 to 'auto' in 1.4. Set the value of `n_init` explicitly to suppress the warning\n",
      "  super()._check_params_vs_input(X, default_n_init=10)\n",
      "Performing walks: 100%|██████████| 8192/8192 [05:10<00:00, 26.35walk/s]\n",
      "c:\\Users\\kctco\\anaconda3\\envs\\gis\\lib\\site-packages\\sklearn\\cluster\\_kmeans.py:1416: FutureWarning: The default value of `n_init` will change from 10 to 'auto' in 1.4. Set the value of `n_init` explicitly to suppress the warning\n",
      "  super()._check_params_vs_input(X, default_n_init=10)\n"
     ]
    }
   ],
   "source": [
    "import pandas as pd\n",
    "import networkx as nx\n",
    "from gensim.models import Word2Vec\n",
    "from sklearn.cluster import KMeans\n",
    "import numpy as np\n",
    "import random\n",
    "from tqdm import tqdm\n",
    "\n",
    "def perform_random_walks(graph, num_walks, walk_length, seed=20):\n",
    "    random.seed(seed)\n",
    "    walks = []\n",
    "    \n",
    "    for _ in tqdm(range(num_walks), desc=\"Performing walks\", unit=\"walk\"):\n",
    "        for starting_node in graph.nodes():\n",
    "            walk = [starting_node]\n",
    "            while len(walk) < walk_length:\n",
    "                current_node = walk[-1]\n",
    "                neighbors = list(graph.neighbors(current_node))\n",
    "                if not neighbors:\n",
    "                    break\n",
    "                \n",
    "                weights = [graph[current_node][neighbor]['weight'] for neighbor in neighbors]\n",
    "                total_weight = sum(weights)\n",
    "                probabilities = [weight / total_weight for weight in weights]\n",
    "                \n",
    "                next_node = np.random.choice(neighbors, p=probabilities)\n",
    "                walk.append(next_node)\n",
    "            walks.append(walk)\n",
    "    \n",
    "    return walks\n",
    "\n",
    "def analyze_communities(seed):\n",
    "    walks = perform_random_walks(G, num_walks=8192, walk_length=12, seed=seed)\n",
    "    walks = [[str(node) for node in walk] for walk in walks]\n",
    "    model = Word2Vec(sentences=walks, vector_size=128, window=8, min_count=1, sg=1, workers=12, epochs=16)\n",
    "    node_embeddings = np.array([model.wv[str(node)] for node in G.nodes()])\n",
    "\n",
    "    kmeans = KMeans(n_clusters=10, random_state=seed)\n",
    "    communities = kmeans.fit_predict(node_embeddings)\n",
    "\n",
    "    community_dict = {}\n",
    "    for node, community in zip(G.nodes(), communities):\n",
    "        node_name = code_to_name.get(int(node), \"Unknown\")\n",
    "        if community not in community_dict:\n",
    "            community_dict[community] = []\n",
    "        community_dict[community].append(node_name)\n",
    "\n",
    "    with open(f\"community_summary_seed_{seed}.txt\", \"w\", encoding='EUC-KR') as file:\n",
    "        for community, names in community_dict.items():\n",
    "            file.write(f\"Community {community}: {names}\\n\")\n",
    "\n",
    "    with open(f\"community_mapping_seed_{seed}.txt\", \"w\", encoding='EUC-KR') as file:\n",
    "        for node, community in zip(G.nodes(), communities):\n",
    "            file.write(f\"{node} : {community}\\n\")\n",
    "\n",
    "data_df = pd.read_csv('all_collected_data.csv', encoding=\"EUC-KR\")\n",
    "edges = data_df[[\"출발 행정동 코드\", \"도착 행정동 코드\", \"이동인구(합)\"]]\n",
    "\n",
    "G = nx.Graph()\n",
    "for index, row in edges.iterrows():\n",
    "    if pd.notna(row[\"이동인구(합)\"]):\n",
    "        G.add_edge(\n",
    "            int(row[\"출발 행정동 코드\"]), int(row[\"도착 행정동 코드\"]), weight=float(row[\"이동인구(합)\"])\n",
    "        )\n",
    "\n",
    "df = pd.read_excel('data/서울생활이동데이터_자치구코드_20210907.xlsx')\n",
    "code_to_name = df.set_index('시군구')['name'].to_dict()\n",
    "\n",
    "for seed in [400, 500, 600]:\n",
    "    analyze_communities(seed)\n"
   ]
  },
  {
   "cell_type": "code",
   "execution_count": null,
   "metadata": {},
   "outputs": [],
   "source": []
  }
 ],
 "metadata": {
  "kernelspec": {
   "display_name": "gis",
   "language": "python",
   "name": "python3"
  },
  "language_info": {
   "codemirror_mode": {
    "name": "ipython",
    "version": 3
   },
   "file_extension": ".py",
   "mimetype": "text/x-python",
   "name": "python",
   "nbconvert_exporter": "python",
   "pygments_lexer": "ipython3",
   "version": "3.8.19"
  }
 },
 "nbformat": 4,
 "nbformat_minor": 2
}
